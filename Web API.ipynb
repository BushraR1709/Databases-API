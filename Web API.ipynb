{
 "cells": [
  {
   "cell_type": "markdown",
   "id": "9f7e8377-20fd-4906-b5d7-a1725fd603bd",
   "metadata": {},
   "source": [
    "Q1. What is an API? Give an example, where an API is used in real life.\n",
    "\n"
   ]
  },
  {
   "cell_type": "code",
   "execution_count": null,
   "id": "6c1f6666-da2a-41dd-b324-4860f69e925e",
   "metadata": {},
   "outputs": [],
   "source": [
    "An API is a set of rules and protocols that allows different software components or applications to communicate with each other.\n",
    "APIs can be used for communication within a single application or between different applications running on the same time.\n",
    "\n",
    "example-\n",
    "Weather Forecasting Applications:\n",
    "Weather forecasting applications and websites frequently use APIs to provide up-to-date weather information.\n",
    "By using APIs, weather forecasting applications can provide users with accurate and timely weather information without the need to collect\n",
    "and maintain vast amounts of weather data themselves. \n",
    "This demonstrates the practicality of APIs in delivering real-time data and enhancing the functionality of various applications \n",
    "and services.\n"
   ]
  },
  {
   "cell_type": "markdown",
   "id": "941f3bbd-daf9-4b1f-8d44-6c057e32289d",
   "metadata": {},
   "source": [
    "Q2. Give advantages and disadvantages of using API. \n",
    "\n"
   ]
  },
  {
   "cell_type": "code",
   "execution_count": null,
   "id": "47ad2a9d-82d8-446f-85e5-0ce7b36bbcea",
   "metadata": {},
   "outputs": [],
   "source": [
    "Advantages of using API :\n",
    "    \n",
    "- APIs facilitate communication between different software components, systems, or platforms. \n",
    "\n",
    "- APIs make it easier to add new features or functionalities to an application without disrupting the existing codebase.\n",
    "\n",
    "- Users can customize their experience by choosing APIs that best suit their specific needs,\n",
    "  tailoring the functionality of an application to their preferences.\n",
    "    \n",
    "Disadvantages of using API :\n",
    "    \n",
    "- Managing and maintaining multiple APIs in a project can become complex and\n",
    "  increase the risk of integration errors and security vulnerabilities.\n",
    "    \n",
    "- Relying on third-party APIs means putting your project's functionality in their hands. \n",
    "  If they change or discontinue their API, it can disrupt your application.\n",
    "    \n",
    "- Exposing APIs to the public may pose security risks, especially if sensitive data is involved."
   ]
  },
  {
   "cell_type": "markdown",
   "id": "1daaf8d2-6b0e-459a-9d33-8f9291bd681e",
   "metadata": {},
   "source": [
    "Q3. What is a Web API? Differentiate between API and Web API.\n",
    "\n"
   ]
  },
  {
   "cell_type": "code",
   "execution_count": null,
   "id": "7eeedbc4-bbf8-4cfb-91b9-564003c10e8e",
   "metadata": {},
   "outputs": [],
   "source": [
    "A Web API is a set of rules and protocols that allows different software applications to communicate with each other over the internet.\n",
    "\n",
    "Differences :-\n",
    "  \n",
    "API : - An API, in a broad sense, is a set of rules and protocols that allow one software application to interact with another. \n",
    "    \n",
    "      - APIs can be used for various types of software interactions, including within a single application, between\n",
    "        applications on the same device, or between applications on different devices or systems.\n",
    "        \n",
    "      - APIs come in different forms, including library-based APIs (functions and methods within a software library),\n",
    "        hardware APIs (for interacting with device hardware).\n",
    "        \n",
    "      -  It defines how different software components should communicate and exchange data.\n",
    "    \n",
    "      -  An APIs is build by using TCP/IP.\n",
    "    \n",
    "Web API : - A Web API is a specific type of API that is designed to be accessed over the internet via web protocols, typically using HTTP. \n",
    "    \n",
    "          - Web APIs are used for enabling interactions between web-based services or applications. \n",
    "            They are commonly used for retrieving and exchanging data over the internet.\n",
    "    \n",
    "          - Web APIs are typically accessed using HTTP requests, and data is exchanged in formats like JSON or XML. \n",
    "            They often adhere to the principles of REST (Representational State Transfer) or other architectural styles.\n",
    "            \n",
    "          - It allows communication between a client and a server.\n",
    "          - A Web APIs is build by using HTTP. "
   ]
  },
  {
   "cell_type": "markdown",
   "id": "4bf5c029-236e-499f-93d7-0c54f10679f8",
   "metadata": {},
   "source": [
    "Q4. Explain REST and SOAP Architecture. Mention shortcomings of SOAP.\n",
    "\n"
   ]
  },
  {
   "cell_type": "code",
   "execution_count": null,
   "id": "8abddc59-dae5-48dd-8d0a-eed85f0469e0",
   "metadata": {},
   "outputs": [],
   "source": [
    "REST :\n",
    "    \n",
    "- REST stands for \"Representational State Transfer.\" \n",
    "\n",
    "- It is an architectural style for designing networked applications, particularly web services.\n",
    "    \n",
    "- REST Architecture is based upon Web API. In REST, with the help of HTTP we tranfer data, insert data, update data & delete data\n",
    "  by using PUT, GET, POST, and DELETE.\n",
    "    \n",
    "- In terms of development REST Architecture is simple, scalability & flexibility.\n",
    "\n",
    "- It is stateless protocol that does not store data but it cache.\n",
    "\n",
    "- It is less secured.\n",
    "\n",
    "SOAP :\n",
    "    \n",
    "- SOAP stands for \"Simple Object Access Protocol\".\n",
    "\n",
    "- It is a protocol for exchanging structured information in the implementation of web services. \n",
    "    \n",
    "- SOAP is based on Web API & XML(Extended Markup Language).\n",
    "\n",
    "- With the help of XML it transfer data.\n",
    "\n",
    "- SOAP Architecture is little bit complex but its light weight protocol.\n",
    "\n",
    "- SOAP Architecture is more secured than REST Architecture.\n",
    "\n",
    "\n",
    "Shortcomings of SOAP :\n",
    "\n",
    "1. SOAP is known for its complexity, both in terms of the protocol itself and the process of creating and maintaining SOAP-based services. \n",
    "2. The XML-based message format can be verbose and challenging to work with.\n",
    "3. SOAP-based web services are less browser-friendly compared to RESTful services.\n",
    "4. SOAP messages are not designed for human readability, which can make debugging and troubleshooting more challenging \n",
    "   compared to human-readable formats like JSON.\n",
    "5. Handling non-XML data, such as binary or multimedia content, can be less efficient and require additional processing."
   ]
  },
  {
   "cell_type": "markdown",
   "id": "06506ff1-16d8-4c7a-bc05-bb286f16e34b",
   "metadata": {},
   "source": [
    "Q5. Differentiate between REST and SOAP."
   ]
  },
  {
   "cell_type": "code",
   "execution_count": null,
   "id": "339cd7ad-16e4-4d1b-b586-a95995976015",
   "metadata": {},
   "outputs": [],
   "source": [
    "Differences between REST and SOAP Architecture are as follows :-\n",
    "\n",
    "SOAP :\n",
    "- SOAP messages are typically XML-based and can be quite verbose. \n",
    "\n",
    "- They include a standardized envelope structure with headers and a body for data.\n",
    "\n",
    "- SOAP has a set of standardized specifications and protocols, including WS-Security, WS-ReliableMessaging, and more. \n",
    "  These standards are intended to address various enterprise-level needs, such as security and reliability.\n",
    "    \n",
    "- SOAP services can be stateful, and maintaining state may be required for certain operations.\n",
    "\n",
    "- SOAP: SOAP can be complex and challenging to use, especially for simple tasks.\n",
    " \n",
    "    \n",
    "REST :\n",
    "- REST uses various message formats, with JSON being one of the most common choices.\n",
    "\n",
    "- Messages in REST are typically more concise and human-readable.\n",
    "\n",
    "- REST is less prescriptive and provides a set of principles. \n",
    "\n",
    "- It does not offer a set of standardized specifications in the same way as SOAP.\n",
    "\n",
    "- REST is inherently stateless, promoting scalability and simplicity.\n",
    "\n",
    "- REST is generally simpler and easier to understand, making it a more straightforward choice for many web services.  "
   ]
  }
 ],
 "metadata": {
  "kernelspec": {
   "display_name": "Python 3 (ipykernel)",
   "language": "python",
   "name": "python3"
  },
  "language_info": {
   "codemirror_mode": {
    "name": "ipython",
    "version": 3
   },
   "file_extension": ".py",
   "mimetype": "text/x-python",
   "name": "python",
   "nbconvert_exporter": "python",
   "pygments_lexer": "ipython3",
   "version": "3.10.8"
  }
 },
 "nbformat": 4,
 "nbformat_minor": 5
}
