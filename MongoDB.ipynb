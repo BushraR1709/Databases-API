{
 "cells": [
  {
   "cell_type": "markdown",
   "id": "53f467ea-7efa-4e10-a1a6-d769405207f4",
   "metadata": {},
   "source": [
    "Q1. What is MongoDB? Explain non-relational databases in short. In which scenarios it is preferred to use\n",
    "MongoDB over SQL databases?"
   ]
  },
  {
   "cell_type": "code",
   "execution_count": null,
   "id": "466d457a-e084-48a1-ba84-bf28bbefe6e1",
   "metadata": {},
   "outputs": [],
   "source": [
    "MongoDB is a popular, open-source NoSQL database management system that stores data in a flexible, document-oriented format. \n",
    "It is part of the NoSQL family and is designed to handle unstructured or semi-structured data,\n",
    "making it well-suited for modern applications and use cases.\n",
    "\n",
    "Non-relational databases, often referred to as NoSQL databases, are a class of database management systems that provide an alternative \n",
    "to traditional relational databases. \n",
    "NoSQL databases are characterized by their flexibility, scalability, and ability to handle various data types,\n",
    "including text, JSON, XML, key-value pairs, graph data, and more.\n",
    "\n",
    "Scenarios Where MongoDB Is Preferred Over SQL Databases:\n",
    "-Schema Flexibility : MongoDB is schema-less,vwe can add or remove fields in documents without altering the entire schema.\n",
    "-Handling Large Amounts of Data : MongoDB's ability to scale horizontally makes it suitable for managing large datasets.\n",
    "-Unstructured or Semi-Structured Data : MongoDB is ideal for storing data that doesn't fit neatly into tables, such as JSON documents, log files, \n",
    " sensor data, and social media interactions.\n",
    "-Frequent Updates: MongoDB is efficient for write-heavy workloads with frequent updates or inserts."
   ]
  },
  {
   "cell_type": "markdown",
   "id": "fb69adf8-3dba-498e-986b-910e703a3615",
   "metadata": {},
   "source": [
    "Q2. State and Explain the features of MongoDB."
   ]
  },
  {
   "cell_type": "code",
   "execution_count": null,
   "id": "379e6f46-295a-44a6-8684-8c68a9ad26f4",
   "metadata": {},
   "outputs": [],
   "source": [
    "MongoDB is a popular NoSQL database management system known for its flexibility, scalability, and ease of use.  \n",
    "\n",
    "Document-Oriented : \n",
    "- MongoDB is Document-Oriented as it stores data in flexible, JSON-like BSON (Binary JSON) documents. \n",
    "- Each document can have a different structure, allowing us to store heterogeneous data in the same collection.\n",
    "\n",
    "Schema Flexibility:\n",
    "- MongoDB's schema-less design allows us to add or modify fields in documents without affecting the entire collection.\n",
    "\n",
    "Query Language:\n",
    "- MongoDB provides a rich query language for retrieving and manipulating data.\n",
    "- It supports a wide range of query operators, including filtering, sorting, and text search.\n",
    "\n",
    "Aggregation Framework:\n",
    "- MongoDB's aggregation framework enables complex data transformations and analysis. \n",
    "- It supports operations like grouping, filtering, and calculating aggregates, making it suitable for advanced analytics and reporting."
   ]
  },
  {
   "cell_type": "markdown",
   "id": "eac2ec41-cf03-4986-a09d-fdb9022e2e5c",
   "metadata": {},
   "source": [
    "Q3. Write a code to connect MongoDB to Python. Also, create a database and a collection in MongoDB."
   ]
  },
  {
   "cell_type": "code",
   "execution_count": 2,
   "id": "b83e155d-6337-4221-ab5f-1647ccfe47ff",
   "metadata": {},
   "outputs": [
    {
     "name": "stdout",
     "output_type": "stream",
     "text": [
      "Collecting pymongo\n",
      "  Downloading pymongo-4.5.0-cp310-cp310-manylinux_2_17_x86_64.manylinux2014_x86_64.whl (671 kB)\n",
      "\u001b[2K     \u001b[90m━━━━━━━━━━━━━━━━━━━━━━━━━━━━━━━━━━━━━━\u001b[0m \u001b[32m671.3/671.3 kB\u001b[0m \u001b[31m38.4 MB/s\u001b[0m eta \u001b[36m0:00:00\u001b[0m\n",
      "\u001b[?25hCollecting dnspython<3.0.0,>=1.16.0\n",
      "  Downloading dnspython-2.4.2-py3-none-any.whl (300 kB)\n",
      "\u001b[2K     \u001b[90m━━━━━━━━━━━━━━━━━━━━━━━━━━━━━━━━━━━━━━\u001b[0m \u001b[32m300.4/300.4 kB\u001b[0m \u001b[31m34.5 MB/s\u001b[0m eta \u001b[36m0:00:00\u001b[0m\n",
      "\u001b[?25hInstalling collected packages: dnspython, pymongo\n",
      "Successfully installed dnspython-2.4.2 pymongo-4.5.0\n",
      "Note: you may need to restart the kernel to use updated packages.\n"
     ]
    }
   ],
   "source": [
    "pip install pymongo"
   ]
  },
  {
   "cell_type": "code",
   "execution_count": 3,
   "id": "b80f5a5a-e5b2-4b89-9170-cb683e522a45",
   "metadata": {},
   "outputs": [
    {
     "name": "stdout",
     "output_type": "stream",
     "text": [
      "Pinged your deployment. You successfully connected to MongoDB!\n"
     ]
    }
   ],
   "source": [
    "import pymongo\n",
    "from pymongo.mongo_client import MongoClient\n",
    "\n",
    "# Create a new client and connect to the server\n",
    "client=pymongo.MongoClient(\"mongodb+srv://user:<password>@cluster0.zrlkbla.mongodb.net/?retryWrites=true&w=majority\")\n",
    "\n",
    "# Send a ping to confirm a successful connection\n",
    "try:\n",
    "    client.admin.command('ping')\n",
    "    print(\"Pinged your deployment. You successfully connected to MongoDB!\")\n",
    "except Exception as e:\n",
    "    print(e)"
   ]
  },
  {
   "cell_type": "code",
   "execution_count": 4,
   "id": "0d16f01c-ee25-4153-a100-8e551f391295",
   "metadata": {},
   "outputs": [],
   "source": [
    "# creating database\n",
    "db = client['course_details']\n",
    "\n",
    "# creating collection\n",
    "collection = db['enrolled_course']\n"
   ]
  },
  {
   "cell_type": "markdown",
   "id": "9125fc52-54e9-4e5a-aee7-fbdc12cd0ac8",
   "metadata": {},
   "source": [
    "Q4. Using the database and the collection created in question number 3, write a code to insert one record,\n",
    "and insert many records. Use the find() and find_one() methods to print the inserted record."
   ]
  },
  {
   "cell_type": "code",
   "execution_count": 26,
   "id": "f18058d3-63bc-4d42-b915-063cd1926b44",
   "metadata": {},
   "outputs": [
    {
     "data": {
      "text/plain": [
       "<pymongo.results.InsertManyResult at 0x7f8cbaf88a60>"
      ]
     },
     "execution_count": 26,
     "metadata": {},
     "output_type": "execute_result"
    }
   ],
   "source": [
    "# inserting one record\n",
    "data = {'course1' : 'Data Science Masters','Cost' : 3500}\n",
    "collection.insert_one(data)\n",
    "\n",
    "# inserting many records\n",
    "data1 = [{'course2' : 'Data Analytics','Cost' : 2500},\n",
    "         {'course3' : 'Full stack web development','Cost' : 3000},\n",
    "         {'course4' : 'Python developer','Cost' : 2000},\n",
    "         {'course5' :  'Cloud computing','Cost' : 5000}]\n",
    "collection.insert_many(data1)"
   ]
  },
  {
   "cell_type": "code",
   "execution_count": 27,
   "id": "08c2354a-320f-4272-95f2-8ff42895484c",
   "metadata": {},
   "outputs": [
    {
     "name": "stdout",
     "output_type": "stream",
     "text": [
      "{'_id': ObjectId('652a2efe95e9ad9b552076ea'), 'course1': 'Data Science Masters', 'Cost': 3500}\n",
      "{'_id': ObjectId('652a2efe95e9ad9b552076eb'), 'course2': 'Data Analytics', 'Cost': 2500}\n",
      "{'_id': ObjectId('652a2efe95e9ad9b552076ec'), 'course3': 'Full stack web development', 'Cost': 3000}\n",
      "{'_id': ObjectId('652a2efe95e9ad9b552076ed'), 'course4': 'Python developer', 'Cost': 2000}\n",
      "{'_id': ObjectId('652a2efe95e9ad9b552076ee'), 'course5': 'Cloud computing', 'Cost': 5000}\n"
     ]
    }
   ],
   "source": [
    "# find()\n",
    "for i in collection.find():\n",
    "    print(i)"
   ]
  },
  {
   "cell_type": "code",
   "execution_count": 28,
   "id": "84a6cae1-392a-4644-b7c8-75c029ea0211",
   "metadata": {},
   "outputs": [
    {
     "data": {
      "text/plain": [
       "{'_id': ObjectId('652a2efe95e9ad9b552076ea'),\n",
       " 'course1': 'Data Science Masters',\n",
       " 'Cost': 3500}"
      ]
     },
     "execution_count": 28,
     "metadata": {},
     "output_type": "execute_result"
    }
   ],
   "source": [
    "# find_one()\n",
    "collection.find_one()"
   ]
  },
  {
   "cell_type": "markdown",
   "id": "2d2e5b40-b018-433d-b874-2ecfe76f828a",
   "metadata": {},
   "source": [
    "Q5. Explain how you can use the find() method to query the MongoDB database. Write a simple code to\n",
    "demonstrate this."
   ]
  },
  {
   "cell_type": "code",
   "execution_count": null,
   "id": "7cb0cacc-e5e4-4969-95ed-59b4ed23218f",
   "metadata": {},
   "outputs": [],
   "source": [
    "The find() method is used to query data from a MongoDB collection.\n",
    "It allows us to search for documents in a collection that match specific criteria or conditions. \n",
    "The find() method is quite versatile and can be used to retrieve documents based on a variety of filters."
   ]
  },
  {
   "cell_type": "code",
   "execution_count": 29,
   "id": "403b8d79-39eb-4737-8c54-bd2e07a9c9db",
   "metadata": {},
   "outputs": [
    {
     "name": "stdout",
     "output_type": "stream",
     "text": [
      "{'_id': ObjectId('652a2efe95e9ad9b552076ea'), 'course1': 'Data Science Masters', 'Cost': 3500}\n",
      "{'_id': ObjectId('652a2efe95e9ad9b552076eb'), 'course2': 'Data Analytics', 'Cost': 2500}\n",
      "{'_id': ObjectId('652a2efe95e9ad9b552076ec'), 'course3': 'Full stack web development', 'Cost': 3000}\n",
      "{'_id': ObjectId('652a2efe95e9ad9b552076ed'), 'course4': 'Python developer', 'Cost': 2000}\n",
      "{'_id': ObjectId('652a2efe95e9ad9b552076ee'), 'course5': 'Cloud computing', 'Cost': 5000}\n"
     ]
    }
   ],
   "source": [
    "# retrieving all data \n",
    "for i in collection.find():\n",
    "    print(i)"
   ]
  },
  {
   "cell_type": "code",
   "execution_count": 30,
   "id": "8ef92ee8-fb05-4b38-8848-4f7631cca2f5",
   "metadata": {},
   "outputs": [
    {
     "name": "stdout",
     "output_type": "stream",
     "text": [
      "{'_id': ObjectId('652a2efe95e9ad9b552076ed'), 'course4': 'Python developer', 'Cost': 2000}\n"
     ]
    }
   ],
   "source": [
    "# conditional query\n",
    "for i in collection.find({'course4' : 'Python developer'}):\n",
    "    print(i)"
   ]
  },
  {
   "cell_type": "markdown",
   "id": "b20a965f-4ae3-411c-a0b4-02a620828760",
   "metadata": {},
   "source": [
    "Q6. Explain the sort() method. Give an example to demonstrate sorting in MongoDB."
   ]
  },
  {
   "cell_type": "code",
   "execution_count": null,
   "id": "ed45dc59-ea3b-49ca-849f-835ddb65e479",
   "metadata": {},
   "outputs": [],
   "source": [
    "The sort() method in MongoDB is used to sort the documents in a collection based on one or more fields in either ascending (1) or \n",
    "descending (-1) order. \n",
    "Sorting allows us to control the order in which documents are returned in query results."
   ]
  },
  {
   "cell_type": "code",
   "execution_count": 40,
   "id": "d22a77a7-e57b-4326-8a3f-d15e1f9dbd73",
   "metadata": {},
   "outputs": [
    {
     "name": "stdout",
     "output_type": "stream",
     "text": [
      "{'_id': ObjectId('652a2efe95e9ad9b552076ed'), 'course4': 'Python developer', 'Cost': 2000}\n",
      "{'_id': ObjectId('652a2efe95e9ad9b552076eb'), 'course2': 'Data Analytics', 'Cost': 2500}\n",
      "{'_id': ObjectId('652a2efe95e9ad9b552076ec'), 'course3': 'Full stack web development', 'Cost': 3000}\n",
      "{'_id': ObjectId('652a2efe95e9ad9b552076ea'), 'course1': 'Data Science Masters', 'Cost': 3500}\n",
      "{'_id': ObjectId('652a2efe95e9ad9b552076ee'), 'course5': 'Cloud computing', 'Cost': 5000}\n"
     ]
    }
   ],
   "source": [
    "# example-\n",
    "\n",
    "sorting_criteria = [(\"Cost\", 1)]\n",
    "\n",
    "# Query the collection with sorting\n",
    "result = collection.find().sort(sorting_criteria)\n",
    "\n",
    "# Iterate through the sorted results and print each document\n",
    "for document in result:\n",
    "    print(document)"
   ]
  },
  {
   "cell_type": "markdown",
   "id": "e633e7a9-3def-4b0f-91de-b085b12321bd",
   "metadata": {},
   "source": [
    "Q7. Explain why delete_one(), delete_many(), and drop() is used."
   ]
  },
  {
   "cell_type": "code",
   "execution_count": null,
   "id": "052045e6-371b-44ee-8614-aaada859d355",
   "metadata": {},
   "outputs": [],
   "source": [
    "delete_one() Method:\n",
    "- The delete_one() method is used to delete a single document that matches a specified filter or criteria in a collection.\n",
    "- If we want to remove a specific document based on a unique identifier, such as an _id field.\n",
    "     \n",
    "delete_many() Method:\n",
    "- The delete_many() method is used to delete multiple documents that match a specified filter in a collection.\n",
    "- If we want to remove multiple documents that meet certain conditions or criteria.\n",
    "\n",
    "drop() Method:\n",
    "- The drop() method is used to delete an entire collection, including all its documents. It essentially removes the collection from the database.\n",
    "- If we want to completely remove all data from a collection, not just individual documents.\n",
    "- If we need to start fresh with an empty collection."
   ]
  }
 ],
 "metadata": {
  "kernelspec": {
   "display_name": "Python 3 (ipykernel)",
   "language": "python",
   "name": "python3"
  },
  "language_info": {
   "codemirror_mode": {
    "name": "ipython",
    "version": 3
   },
   "file_extension": ".py",
   "mimetype": "text/x-python",
   "name": "python",
   "nbconvert_exporter": "python",
   "pygments_lexer": "ipython3",
   "version": "3.10.8"
  }
 },
 "nbformat": 4,
 "nbformat_minor": 5
}
