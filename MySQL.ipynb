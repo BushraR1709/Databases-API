{
 "cells": [
  {
   "cell_type": "markdown",
   "id": "a0ac8076-8775-4986-8c57-2294bc604ad5",
   "metadata": {},
   "source": [
    "Q1. What is a database? Differentiate between SQL and NoSQL databases."
   ]
  },
  {
   "cell_type": "code",
   "execution_count": null,
   "id": "9bdb2a53-963f-46ea-b148-11ca88969526",
   "metadata": {},
   "outputs": [],
   "source": [
    "Database is a storage system that has a collection of data used for easy access, management and maintenance.\n",
    "\n",
    "SQl -\n",
    "-SQL stands for Structured Query Language.\n",
    "-SQL is a language for defining the structure of a database.\n",
    "-It allow users to access and manipulate the database.\n",
    "-Types of SQL databases are :- mySQl, Oracle, MsSQL, etc.\n",
    "\n",
    "NoSQL -\n",
    "-NoSQL stands for Not Only Structured Query Language.\n",
    "-NoSQL can store semi-structured and unstructured data. \n",
    "-NoSQL are well-suited for real-time, high-speed data processing.\n",
    "-various popular NoSQL databases are including MongoDB (document-oriented), Cassandra, Neo4j, and Apache HBase."
   ]
  },
  {
   "cell_type": "markdown",
   "id": "e5c094dd-c4f4-4c83-a6f4-1b0c6723a1cf",
   "metadata": {},
   "source": [
    "Q2. What is DDL? Explain why CREATE, DROP, ALTER, and TRUNCATE are used with an example."
   ]
  },
  {
   "cell_type": "code",
   "execution_count": null,
   "id": "5d1f9d01-09f9-48a3-a7da-233b6aa20ac1",
   "metadata": {},
   "outputs": [],
   "source": [
    "DDL stands for Data Definition Language.\n",
    "DDL is used to define, manage, and modify the structure of the database, which includes creating and managing database objects.\n",
    "\n",
    "CREATE - CREATE is used for creating the database/database objects.\n",
    "example- CREATE DATABSE IF NOT EXISTS Class;\n",
    "         CREATE TABLE IF NOT EXISTS Students(Rollno. INT PRIMARY KEY, F_Name VARCHAR(10), L_Name VARCHAR(10)) ;\n",
    "    \n",
    "DROP - DROP is used for deleting the database and database objects.\n",
    "example - DROP TABLE Students;  \n",
    "\n",
    "ALTER - ALTER add the structures in the database objects.\n",
    "example - ALTER TABLE Students ADD COLUMN Enrollred_course VARCHAR(30);\n",
    "\n",
    "TRUNCATE - TRUNCATE removes all the records from a table permanently.\n",
    "example - TRUNCATE TABLE Students;"
   ]
  },
  {
   "cell_type": "markdown",
   "id": "e45e1fbd-7520-4a92-8231-58f93b299069",
   "metadata": {},
   "source": [
    "Q3. What is DML? Explain INSERT, UPDATE, and DELETE with an example."
   ]
  },
  {
   "cell_type": "code",
   "execution_count": null,
   "id": "a8bde185-44a2-420f-820c-c33a1505ff79",
   "metadata": {},
   "outputs": [],
   "source": [
    "DML stands for Data Manipulation Language.\n",
    "DML operations primarily involve querying, inserting, updating, and deleting data in database tables.\n",
    "\n",
    "\n",
    "INSERT - INSERT is used to insert data into a table.\n",
    "example - INSERT INTO Students (Rollno., F_Name, L_Name,) VALUES( 1, 'Bushra', 'Rahman');\n",
    "\n",
    "UPDATE - UPDATE is used to update the existing data within a table.\n",
    "example - UPDATE Students SET Rollno. = 2 WHERE F_Name ='Bushra';\n",
    "\n",
    "DELETE - DELETE is used to delete the all records from a table.\n",
    "example - DELETE FROM Students WHERE Rollno. = 1; \n"
   ]
  },
  {
   "cell_type": "markdown",
   "id": "d0c23933-7cc5-4bd6-b049-fcfd260e6132",
   "metadata": {},
   "source": [
    "Q4. What is DQL? Explain SELECT with an example."
   ]
  },
  {
   "cell_type": "code",
   "execution_count": null,
   "id": "1f276c73-b424-4298-a9d1-b69c68fb61a3",
   "metadata": {},
   "outputs": [],
   "source": [
    "DQL stands for Data Query Language. That is specially focused on querying and retrieving data from database.\n",
    "DQL is primarily concerned with the 'SELECT' statement.\n",
    "In MySQL, DQL is used to retrieve and manipulate data in a read-only manner.\n",
    "\n",
    "SELECT Statement: The primary DQL statement is SELECT. It is used to query data from one or more database tables. \n",
    "With the SELECT statement, we can specify the columns we want to retrieve, apply filters, perform calculations,\n",
    "and more. \n",
    "\n",
    "Example-\n",
    "SELECT * FROM Students;\n",
    "\n"
   ]
  },
  {
   "cell_type": "markdown",
   "id": "517e5f50-6d05-46b0-a5c9-6c2b235bd219",
   "metadata": {},
   "source": [
    "##### Q5. Explain Primary Key and Foreign Key."
   ]
  },
  {
   "cell_type": "code",
   "execution_count": null,
   "id": "bbeb5432-bc54-4f3c-808b-1895bb0c8811",
   "metadata": {},
   "outputs": [],
   "source": [
    "Primary Key-\n",
    "Primary Key is used to make a column unique & not null.\n",
    "There must be a single primary key in a table.\n",
    "It ensures data integrity and provides a fast way to retrieve specific records.\n",
    "And Primary Key are typically used for referencing and linking data between tables.\n",
    "\n",
    "Foreign Key-\n",
    "Foreign Key is an attribute or set of attributes that references to primary key of same table or another table(relation).\n",
    "A table would be more than one foreign key.\n",
    "Foreign Key is used to maintain referential integrity.\n"
   ]
  },
  {
   "cell_type": "markdown",
   "id": "0f489f40-1df7-4dc8-b4d8-0246c5e0871e",
   "metadata": {},
   "source": [
    "Q6. Write a python code to connect MySQL to python. Explain the cursor() and execute() method."
   ]
  },
  {
   "cell_type": "code",
   "execution_count": null,
   "id": "c2b3c5fc-fc91-4bcf-be40-784fbaff1921",
   "metadata": {},
   "outputs": [],
   "source": [
    "import mysql.connector\n",
    "mydb = mysql.connector.connect(\n",
    "    host = \"localhost\",\n",
    "    user = \"abc\",\n",
    "   password = \"password\"\n",
    ")\n",
    "\n",
    "mycursor = mydb.cursor()\n",
    "\n",
    "cursor() :-\n",
    "The cursor() method is called on the database connection (mydb) to create a cursor object. \n",
    "A cursor is like a handle or pointer that allows you to execute SQL commands and fetch results from the database.\n",
    "\n",
    "execute() :-\n",
    "The execute() method is called on the cursor object (mycursor) to execute SQL queries.\n",
    "It takes an argument that you want to execute."
   ]
  },
  {
   "cell_type": "markdown",
   "id": "f8cd9e40-5302-4893-928b-50cd2001d12c",
   "metadata": {},
   "source": [
    "Q7. Give the order of execution of SQL clauses in an SQL query."
   ]
  },
  {
   "cell_type": "code",
   "execution_count": null,
   "id": "85e96488-c08c-4a40-81c7-f695d84ff12d",
   "metadata": {},
   "outputs": [],
   "source": [
    "FROM: The FROM clause specifies the tables or data sources from which the data will be retrieved.\n",
    "\n",
    "WHERE: The WHERE clause is used to filter rows from the tables specified in the FROM clause.\n",
    "Rows that meet the specified conditions are included in the result set.\n",
    "\n",
    "GROUP BY: If specified, the GROUP BY clause is used to group rows based on one or more columns. \n",
    "This is often used in conjunction with aggregate functions like SUM, COUNT, AVG, etc.\n",
    "\n",
    "HAVING: The HAVING clause is used to filter groups of rows that were created by the GROUP BY clause.\n",
    "It operates similarly to the WHERE clause but acts on grouped data.\n",
    "\n",
    "SELECT: The SELECT clause specifies which columns or expressions should be included in the result set.\n",
    "It follows the filtering and grouping operations.\n",
    "\n",
    "DISTINCT: If the DISTINCT keyword is used, it removes duplicate rows from the result set based on the selected columns.\n",
    "\n",
    "ORDER BY: The ORDER BY clause is used to sort the result set based on one or more columns in ascending or descending order."
   ]
  }
 ],
 "metadata": {
  "kernelspec": {
   "display_name": "Python 3 (ipykernel)",
   "language": "python",
   "name": "python3"
  },
  "language_info": {
   "codemirror_mode": {
    "name": "ipython",
    "version": 3
   },
   "file_extension": ".py",
   "mimetype": "text/x-python",
   "name": "python",
   "nbconvert_exporter": "python",
   "pygments_lexer": "ipython3",
   "version": "3.10.8"
  }
 },
 "nbformat": 4,
 "nbformat_minor": 5
}
